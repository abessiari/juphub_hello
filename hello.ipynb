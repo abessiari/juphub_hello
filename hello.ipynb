{
 "cells": [
  {
   "cell_type": "code",
   "execution_count": null,
   "id": "a65d495b-eb53-4a60-b314-8fccf57826ff",
   "metadata": {},
   "outputs": [],
   "source": [
    "with  open(\"requirements.txt\", \"r\") as fp:\n",
    "    lines = fp.readlines()\n",
    "    lines = list(map(lambda s: s.strip(), lines))\n",
    "    print(\"Hello I have:\", lines)\n",
    "    assert 1 == len(lines), \"expected one requirement\"\n",
    "    "
   ]
  }
 ],
 "metadata": {
  "kernelspec": {
   "display_name": "Python 3 (ipykernel)",
   "language": "python",
   "name": "python3"
  },
  "language_info": {
   "codemirror_mode": {
    "name": "ipython",
    "version": 3
   },
   "file_extension": ".py",
   "mimetype": "text/x-python",
   "name": "python",
   "nbconvert_exporter": "python",
   "pygments_lexer": "ipython3",
   "version": "3.7.12"
  }
 },
 "nbformat": 4,
 "nbformat_minor": 5
}
